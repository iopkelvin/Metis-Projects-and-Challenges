{
 "cells": [
  {
   "cell_type": "markdown",
   "metadata": {},
   "source": [
    "## Linear Regression and Train/Test Split challenges\n",
    "Ideally, try these with your own data! (Alternatively, there is the 2013_movies.csv data set.)"
   ]
  },
  {
   "cell_type": "code",
   "execution_count": 72,
   "metadata": {},
   "outputs": [],
   "source": [
    "import pandas as pd\n",
    "import numpy as np\n",
    "import matplotlib.pyplot as plt\n",
    "import seaborn as sns\n",
    "import statsmodels.api as sm \n",
    "from sklearn.model_selection import train_test_split\n",
    "from sklearn.linear_model import LinearRegression"
   ]
  },
  {
   "cell_type": "markdown",
   "metadata": {},
   "source": [
    "## Challenge 1\n",
    "Build a linear model that uses only a constant term (a column of ones) to predict a continuous outcome (like domestic total gross). How can you interpret the results of this model? What does it predict? Make a plot of predictions against actual outcome. Make a histogram of residuals. How are the residuals distributed?"
   ]
  },
  {
   "cell_type": "code",
   "execution_count": 45,
   "metadata": {
    "scrolled": true
   },
   "outputs": [
    {
     "name": "stdout",
     "output_type": "stream",
     "text": [
      "movies size:  (100, 7)\n"
     ]
    }
   ],
   "source": [
    "movies = pd.read_csv(\"2013_movies.csv\")\n",
    "y = movies[\"DomesticTotalGross\"]\n",
    "X = pd.DataFrame()\n",
    "X[\"constant\"] = [1]*100\n",
    "print(\"movies size: \", movies.shape)"
   ]
  },
  {
   "cell_type": "code",
   "execution_count": 47,
   "metadata": {
    "scrolled": true
   },
   "outputs": [
    {
     "name": "stderr",
     "output_type": "stream",
     "text": [
      "/Users/kelvin/anaconda3/lib/python3.7/site-packages/statsmodels/regression/linear_model.py:1657: RuntimeWarning: divide by zero encountered in double_scalars\n",
      "  return self.ess/self.df_model\n"
     ]
    },
    {
     "data": {
      "text/html": [
       "<table class=\"simpletable\">\n",
       "<caption>OLS Regression Results</caption>\n",
       "<tr>\n",
       "  <th>Dep. Variable:</th>    <td>DomesticTotalGross</td> <th>  R-squared:         </th> <td>   0.000</td>\n",
       "</tr>\n",
       "<tr>\n",
       "  <th>Model:</th>                    <td>OLS</td>        <th>  Adj. R-squared:    </th> <td>   0.000</td>\n",
       "</tr>\n",
       "<tr>\n",
       "  <th>Method:</th>              <td>Least Squares</td>   <th>  F-statistic:       </th> <td>     inf</td>\n",
       "</tr>\n",
       "<tr>\n",
       "  <th>Date:</th>              <td>Mon, 14 Oct 2019</td>  <th>  Prob (F-statistic):</th>  <td>   nan</td> \n",
       "</tr>\n",
       "<tr>\n",
       "  <th>Time:</th>                  <td>07:32:06</td>      <th>  Log-Likelihood:    </th> <td> -1970.0</td>\n",
       "</tr>\n",
       "<tr>\n",
       "  <th>No. Observations:</th>       <td>   100</td>       <th>  AIC:               </th> <td>   3942.</td>\n",
       "</tr>\n",
       "<tr>\n",
       "  <th>Df Residuals:</th>           <td>    99</td>       <th>  BIC:               </th> <td>   3945.</td>\n",
       "</tr>\n",
       "<tr>\n",
       "  <th>Df Model:</th>               <td>     0</td>       <th>                     </th>     <td> </td>   \n",
       "</tr>\n",
       "<tr>\n",
       "  <th>Covariance Type:</th>       <td>nonrobust</td>     <th>                     </th>     <td> </td>   \n",
       "</tr>\n",
       "</table>\n",
       "<table class=\"simpletable\">\n",
       "<tr>\n",
       "      <td></td>        <th>coef</th>     <th>std err</th>      <th>t</th>      <th>P>|t|</th>  <th>[0.025</th>    <th>0.975]</th>  \n",
       "</tr>\n",
       "<tr>\n",
       "  <th>constant</th> <td> 1.006e+08</td> <td> 8.74e+06</td> <td>   11.510</td> <td> 0.000</td> <td> 8.33e+07</td> <td> 1.18e+08</td>\n",
       "</tr>\n",
       "</table>\n",
       "<table class=\"simpletable\">\n",
       "<tr>\n",
       "  <th>Omnibus:</th>       <td>51.114</td> <th>  Durbin-Watson:     </th> <td>   0.013</td>\n",
       "</tr>\n",
       "<tr>\n",
       "  <th>Prob(Omnibus):</th> <td> 0.000</td> <th>  Jarque-Bera (JB):  </th> <td> 125.961</td>\n",
       "</tr>\n",
       "<tr>\n",
       "  <th>Skew:</th>          <td> 1.985</td> <th>  Prob(JB):          </th> <td>4.45e-28</td>\n",
       "</tr>\n",
       "<tr>\n",
       "  <th>Kurtosis:</th>      <td> 6.804</td> <th>  Cond. No.          </th> <td>    1.00</td>\n",
       "</tr>\n",
       "</table><br/><br/>Warnings:<br/>[1] Standard Errors assume that the covariance matrix of the errors is correctly specified."
      ],
      "text/plain": [
       "<class 'statsmodels.iolib.summary.Summary'>\n",
       "\"\"\"\n",
       "                            OLS Regression Results                            \n",
       "==============================================================================\n",
       "Dep. Variable:     DomesticTotalGross   R-squared:                       0.000\n",
       "Model:                            OLS   Adj. R-squared:                  0.000\n",
       "Method:                 Least Squares   F-statistic:                       inf\n",
       "Date:                Mon, 14 Oct 2019   Prob (F-statistic):                nan\n",
       "Time:                        07:32:06   Log-Likelihood:                -1970.0\n",
       "No. Observations:                 100   AIC:                             3942.\n",
       "Df Residuals:                      99   BIC:                             3945.\n",
       "Df Model:                           0                                         \n",
       "Covariance Type:            nonrobust                                         \n",
       "==============================================================================\n",
       "                 coef    std err          t      P>|t|      [0.025      0.975]\n",
       "------------------------------------------------------------------------------\n",
       "constant    1.006e+08   8.74e+06     11.510      0.000    8.33e+07    1.18e+08\n",
       "==============================================================================\n",
       "Omnibus:                       51.114   Durbin-Watson:                   0.013\n",
       "Prob(Omnibus):                  0.000   Jarque-Bera (JB):              125.961\n",
       "Skew:                           1.985   Prob(JB):                     4.45e-28\n",
       "Kurtosis:                       6.804   Cond. No.                         1.00\n",
       "==============================================================================\n",
       "\n",
       "Warnings:\n",
       "[1] Standard Errors assume that the covariance matrix of the errors is correctly specified.\n",
       "\"\"\""
      ]
     },
     "execution_count": 47,
     "metadata": {},
     "output_type": "execute_result"
    }
   ],
   "source": [
    "model = sm.OLS(y, X)\n",
    "fitted = model.fit()\n",
    "fitted.summary()"
   ]
  },
  {
   "cell_type": "code",
   "execution_count": 48,
   "metadata": {},
   "outputs": [
    {
     "data": {
      "text/plain": [
       "100596875.22000001"
      ]
     },
     "execution_count": 48,
     "metadata": {},
     "output_type": "execute_result"
    }
   ],
   "source": [
    "#Parameter of 'constant' variable\n",
    "fitted.params[0]"
   ]
  },
  {
   "cell_type": "code",
   "execution_count": 50,
   "metadata": {
    "scrolled": true
   },
   "outputs": [
    {
     "data": {
      "text/plain": [
       "Text(0.5, 0, 'Predicted')"
      ]
     },
     "execution_count": 50,
     "metadata": {},
     "output_type": "execute_result"
    },
    {
     "data": {
      "image/png": "[encoded data removed]",
      "text/plain": [
       "<Figure size 432x288 with 1 Axes>"
      ]
     },
     "metadata": {},
     "output_type": "display_data"
    }
   ],
   "source": [
    "predicted = fitted.predict(X)\n",
    "predicted\n",
    "plt.plot(y, predicted)\n",
    "plt.title('Prediction vs Actual')\n",
    "plt.ylabel('Actual')\n",
    "plt.xlabel('Predicted')"
   ]
  },
  {
   "cell_type": "code",
   "execution_count": 51,
   "metadata": {},
   "outputs": [],
   "source": [
    "residuals = y-predicted"
   ]
  },
  {
   "cell_type": "code",
   "execution_count": 54,
   "metadata": {
    "scrolled": true
   },
   "outputs": [
    {
     "data": {
      "text/plain": [
       "(array([47., 21., 15.,  3.,  3.,  4.,  3.,  0.,  1.,  3.]),\n",
       " array([-7.50286242e+07, -3.51186446e+07,  4.79133498e+06,  4.47013146e+07,\n",
       "         8.46112942e+07,  1.24521274e+08,  1.64431253e+08,  2.04341233e+08,\n",
       "         2.44251213e+08,  2.84161192e+08,  3.24071172e+08]),\n",
       " <a list of 10 Patch objects>)"
      ]
     },
     "execution_count": 54,
     "metadata": {},
     "output_type": "execute_result"
    },
    {
     "data": {
      "image/png": "[encoded data removed]",
      "text/plain": [
       "<Figure size 432x288 with 1 Axes>"
      ]
     },
     "metadata": {},
     "output_type": "display_data"
    }
   ],
   "source": [
    "plt.hist(residuals, bins=10)"
   ]
  },
  {
   "cell_type": "markdown",
   "metadata": {},
   "source": [
    "Most of the residuals (45%) are 0 as the values are close to the mean of the outcome y."
   ]
  },
  {
   "cell_type": "markdown",
   "metadata": {},
   "source": [
    "## Challenge 2\n",
    "Repeat the process of challenge one, but also add one continuous (numeric) predictor variable. Also add plots of model prediction against your feature variable and residuals against feature variable. How can you interpret what's happening in the model?"
   ]
  },
  {
   "cell_type": "code",
   "execution_count": 56,
   "metadata": {},
   "outputs": [
    {
     "data": {
      "text/html": [
       "<div>\n",
       "<style scoped>\n",
       "    .dataframe tbody tr th:only-of-type {\n",
       "        vertical-align: middle;\n",
       "    }\n",
       "\n",
       "    .dataframe tbody tr th {\n",
       "        vertical-align: top;\n",
       "    }\n",
       "\n",
       "    .dataframe thead th {\n",
       "        text-align: right;\n",
       "    }\n",
       "</style>\n",
       "<table border=\"1\" class=\"dataframe\">\n",
       "  <thead>\n",
       "    <tr style=\"text-align: right;\">\n",
       "      <th></th>\n",
       "      <th>Title</th>\n",
       "      <th>Budget</th>\n",
       "      <th>DomesticTotalGross</th>\n",
       "      <th>Director</th>\n",
       "      <th>Rating</th>\n",
       "      <th>Runtime</th>\n",
       "      <th>ReleaseDate</th>\n",
       "    </tr>\n",
       "  </thead>\n",
       "  <tbody>\n",
       "    <tr>\n",
       "      <td>0</td>\n",
       "      <td>The Hunger Games: Catching Fire</td>\n",
       "      <td>130000000.0</td>\n",
       "      <td>424668047</td>\n",
       "      <td>Francis Lawrence</td>\n",
       "      <td>PG-13</td>\n",
       "      <td>146</td>\n",
       "      <td>2013-11-22 00:00:00</td>\n",
       "    </tr>\n",
       "    <tr>\n",
       "      <td>1</td>\n",
       "      <td>Iron Man 3</td>\n",
       "      <td>200000000.0</td>\n",
       "      <td>409013994</td>\n",
       "      <td>Shane Black</td>\n",
       "      <td>PG-13</td>\n",
       "      <td>129</td>\n",
       "      <td>2013-05-03 00:00:00</td>\n",
       "    </tr>\n",
       "  </tbody>\n",
       "</table>\n",
       "</div>"
      ],
      "text/plain": [
       "                             Title       Budget  DomesticTotalGross  \\\n",
       "0  The Hunger Games: Catching Fire  130000000.0           424668047   \n",
       "1                       Iron Man 3  200000000.0           409013994   \n",
       "\n",
       "           Director Rating  Runtime          ReleaseDate  \n",
       "0  Francis Lawrence  PG-13      146  2013-11-22 00:00:00  \n",
       "1       Shane Black  PG-13      129  2013-05-03 00:00:00  "
      ]
     },
     "execution_count": 56,
     "metadata": {},
     "output_type": "execute_result"
    }
   ],
   "source": [
    "movies.head(2)"
   ]
  },
  {
   "cell_type": "code",
   "execution_count": 57,
   "metadata": {},
   "outputs": [],
   "source": [
    "X_2 = X.copy()\n",
    "X_2['Budget'] = movies['Budget']"
   ]
  },
  {
   "cell_type": "code",
   "execution_count": 59,
   "metadata": {
    "scrolled": true
   },
   "outputs": [
    {
     "data": {
      "text/plain": [
       "constant    False\n",
       "Budget       True\n",
       "dtype: bool"
      ]
     },
     "execution_count": 59,
     "metadata": {},
     "output_type": "execute_result"
    }
   ],
   "source": [
    "X_2.isna().any()"
   ]
  },
  {
   "cell_type": "markdown",
   "metadata": {},
   "source": [
    "There are some null values on the 'Budget' variable"
   ]
  },
  {
   "cell_type": "code",
   "execution_count": 60,
   "metadata": {},
   "outputs": [
    {
     "data": {
      "text/html": [
       "<table class=\"simpletable\">\n",
       "<caption>OLS Regression Results</caption>\n",
       "<tr>\n",
       "  <th>Dep. Variable:</th>    <td>DomesticTotalGross</td> <th>  R-squared:         </th> <td>   0.286</td>\n",
       "</tr>\n",
       "<tr>\n",
       "  <th>Model:</th>                    <td>OLS</td>        <th>  Adj. R-squared:    </th> <td>   0.278</td>\n",
       "</tr>\n",
       "<tr>\n",
       "  <th>Method:</th>              <td>Least Squares</td>   <th>  F-statistic:       </th> <td>   34.82</td>\n",
       "</tr>\n",
       "<tr>\n",
       "  <th>Date:</th>              <td>Mon, 14 Oct 2019</td>  <th>  Prob (F-statistic):</th> <td>6.80e-08</td>\n",
       "</tr>\n",
       "<tr>\n",
       "  <th>Time:</th>                  <td>07:45:20</td>      <th>  Log-Likelihood:    </th> <td> -1738.1</td>\n",
       "</tr>\n",
       "<tr>\n",
       "  <th>No. Observations:</th>       <td>    89</td>       <th>  AIC:               </th> <td>   3480.</td>\n",
       "</tr>\n",
       "<tr>\n",
       "  <th>Df Residuals:</th>           <td>    87</td>       <th>  BIC:               </th> <td>   3485.</td>\n",
       "</tr>\n",
       "<tr>\n",
       "  <th>Df Model:</th>               <td>     1</td>       <th>                     </th>     <td> </td>   \n",
       "</tr>\n",
       "<tr>\n",
       "  <th>Covariance Type:</th>       <td>nonrobust</td>     <th>                     </th>     <td> </td>   \n",
       "</tr>\n",
       "</table>\n",
       "<table class=\"simpletable\">\n",
       "<tr>\n",
       "      <td></td>        <th>coef</th>     <th>std err</th>      <th>t</th>      <th>P>|t|</th>  <th>[0.025</th>    <th>0.975]</th>  \n",
       "</tr>\n",
       "<tr>\n",
       "  <th>constant</th> <td>  4.44e+07</td> <td> 1.27e+07</td> <td>    3.504</td> <td> 0.001</td> <td> 1.92e+07</td> <td> 6.96e+07</td>\n",
       "</tr>\n",
       "<tr>\n",
       "  <th>Budget</th>   <td>    0.7846</td> <td>    0.133</td> <td>    5.901</td> <td> 0.000</td> <td>    0.520</td> <td>    1.049</td>\n",
       "</tr>\n",
       "</table>\n",
       "<table class=\"simpletable\">\n",
       "<tr>\n",
       "  <th>Omnibus:</th>       <td>39.749</td> <th>  Durbin-Watson:     </th> <td>   0.674</td>\n",
       "</tr>\n",
       "<tr>\n",
       "  <th>Prob(Omnibus):</th> <td> 0.000</td> <th>  Jarque-Bera (JB):  </th> <td>  99.441</td>\n",
       "</tr>\n",
       "<tr>\n",
       "  <th>Skew:</th>          <td> 1.587</td> <th>  Prob(JB):          </th> <td>2.55e-22</td>\n",
       "</tr>\n",
       "<tr>\n",
       "  <th>Kurtosis:</th>      <td> 7.091</td> <th>  Cond. No.          </th> <td>1.54e+08</td>\n",
       "</tr>\n",
       "</table><br/><br/>Warnings:<br/>[1] Standard Errors assume that the covariance matrix of the errors is correctly specified.<br/>[2] The condition number is large, 1.54e+08. This might indicate that there are<br/>strong multicollinearity or other numerical problems."
      ],
      "text/plain": [
       "<class 'statsmodels.iolib.summary.Summary'>\n",
       "\"\"\"\n",
       "                            OLS Regression Results                            \n",
       "==============================================================================\n",
       "Dep. Variable:     DomesticTotalGross   R-squared:                       0.286\n",
       "Model:                            OLS   Adj. R-squared:                  0.278\n",
       "Method:                 Least Squares   F-statistic:                     34.82\n",
       "Date:                Mon, 14 Oct 2019   Prob (F-statistic):           6.80e-08\n",
       "Time:                        07:45:20   Log-Likelihood:                -1738.1\n",
       "No. Observations:                  89   AIC:                             3480.\n",
       "Df Residuals:                      87   BIC:                             3485.\n",
       "Df Model:                           1                                         \n",
       "Covariance Type:            nonrobust                                         \n",
       "==============================================================================\n",
       "                 coef    std err          t      P>|t|      [0.025      0.975]\n",
       "------------------------------------------------------------------------------\n",
       "constant     4.44e+07   1.27e+07      3.504      0.001    1.92e+07    6.96e+07\n",
       "Budget         0.7846      0.133      5.901      0.000       0.520       1.049\n",
       "==============================================================================\n",
       "Omnibus:                       39.749   Durbin-Watson:                   0.674\n",
       "Prob(Omnibus):                  0.000   Jarque-Bera (JB):               99.441\n",
       "Skew:                           1.587   Prob(JB):                     2.55e-22\n",
       "Kurtosis:                       7.091   Cond. No.                     1.54e+08\n",
       "==============================================================================\n",
       "\n",
       "Warnings:\n",
       "[1] Standard Errors assume that the covariance matrix of the errors is correctly specified.\n",
       "[2] The condition number is large, 1.54e+08. This might indicate that there are\n",
       "strong multicollinearity or other numerical problems.\n",
       "\"\"\""
      ]
     },
     "execution_count": 60,
     "metadata": {},
     "output_type": "execute_result"
    }
   ],
   "source": [
    "model = sm.OLS(y, X_2, missing='drop')\n",
    "fitted = model.fit()\n",
    "fitted.summary()"
   ]
  },
  {
   "cell_type": "code",
   "execution_count": 61,
   "metadata": {},
   "outputs": [],
   "source": [
    "predicted = fitted.predict(X_2)"
   ]
  },
  {
   "cell_type": "code",
   "execution_count": 62,
   "metadata": {},
   "outputs": [
    {
     "data": {
      "text/plain": [
       "Text(0, 0.5, 'Predicted Domestic Gross Total')"
      ]
     },
     "execution_count": 62,
     "metadata": {},
     "output_type": "execute_result"
    },
    {
     "data": {
      "image/png": "[encoded data removed]",
      "text/plain": [
       "<Figure size 432x288 with 1 Axes>"
      ]
     },
     "metadata": {},
     "output_type": "display_data"
    }
   ],
   "source": [
    "plt.plot(X_2['Budget'], predicted, 'r.')\n",
    "plt.title('Predicted Gross Outcome vs. Budget')\n",
    "plt.xlabel('Budget')\n",
    "plt.ylabel('Predicted Domestic Gross Total')"
   ]
  },
  {
   "cell_type": "code",
   "execution_count": 63,
   "metadata": {},
   "outputs": [
    {
     "data": {
      "text/plain": [
       "Text(0, 0.5, 'Residual')"
      ]
     },
     "execution_count": 63,
     "metadata": {},
     "output_type": "execute_result"
    },
    {
     "data": {
      "image/png": "[encoded data removed]",
      "text/plain": [
       "<Figure size 432x288 with 1 Axes>"
      ]
     },
     "metadata": {},
     "output_type": "display_data"
    }
   ],
   "source": [
    "residual = predicted - y\n",
    "plt.plot(X_2['Budget'], residual, 'r.')\n",
    "plt.title('Residual vs. Budget')\n",
    "plt.xlabel('Budget')\n",
    "plt.ylabel('Residual')"
   ]
  },
  {
   "cell_type": "markdown",
   "metadata": {},
   "source": [
    "## Challenge 3\n",
    "Repeat the process of challenge 1, but add a categorical feature (like genre). You'll have to convert a column of text into a number of numerical columns (\"dummy variables\"). How can you interpret what's happening in the model?"
   ]
  },
  {
   "cell_type": "code",
   "execution_count": 64,
   "metadata": {},
   "outputs": [
    {
     "data": {
      "text/html": [
       "<div>\n",
       "<style scoped>\n",
       "    .dataframe tbody tr th:only-of-type {\n",
       "        vertical-align: middle;\n",
       "    }\n",
       "\n",
       "    .dataframe tbody tr th {\n",
       "        vertical-align: top;\n",
       "    }\n",
       "\n",
       "    .dataframe thead th {\n",
       "        text-align: right;\n",
       "    }\n",
       "</style>\n",
       "<table border=\"1\" class=\"dataframe\">\n",
       "  <thead>\n",
       "    <tr style=\"text-align: right;\">\n",
       "      <th></th>\n",
       "      <th>Title</th>\n",
       "      <th>Budget</th>\n",
       "      <th>DomesticTotalGross</th>\n",
       "      <th>Director</th>\n",
       "      <th>Rating</th>\n",
       "      <th>Runtime</th>\n",
       "      <th>ReleaseDate</th>\n",
       "    </tr>\n",
       "  </thead>\n",
       "  <tbody>\n",
       "    <tr>\n",
       "      <td>0</td>\n",
       "      <td>The Hunger Games: Catching Fire</td>\n",
       "      <td>130000000.0</td>\n",
       "      <td>424668047</td>\n",
       "      <td>Francis Lawrence</td>\n",
       "      <td>PG-13</td>\n",
       "      <td>146</td>\n",
       "      <td>2013-11-22 00:00:00</td>\n",
       "    </tr>\n",
       "  </tbody>\n",
       "</table>\n",
       "</div>"
      ],
      "text/plain": [
       "                             Title       Budget  DomesticTotalGross  \\\n",
       "0  The Hunger Games: Catching Fire  130000000.0           424668047   \n",
       "\n",
       "           Director Rating  Runtime          ReleaseDate  \n",
       "0  Francis Lawrence  PG-13      146  2013-11-22 00:00:00  "
      ]
     },
     "execution_count": 64,
     "metadata": {},
     "output_type": "execute_result"
    }
   ],
   "source": [
    "movies.head(1)"
   ]
  },
  {
   "cell_type": "code",
   "execution_count": 68,
   "metadata": {},
   "outputs": [
    {
     "data": {
      "text/html": [
       "<div>\n",
       "<style scoped>\n",
       "    .dataframe tbody tr th:only-of-type {\n",
       "        vertical-align: middle;\n",
       "    }\n",
       "\n",
       "    .dataframe tbody tr th {\n",
       "        vertical-align: top;\n",
       "    }\n",
       "\n",
       "    .dataframe thead th {\n",
       "        text-align: right;\n",
       "    }\n",
       "</style>\n",
       "<table border=\"1\" class=\"dataframe\">\n",
       "  <thead>\n",
       "    <tr style=\"text-align: right;\">\n",
       "      <th></th>\n",
       "      <th>constant</th>\n",
       "      <th>G</th>\n",
       "      <th>PG</th>\n",
       "      <th>PG-13</th>\n",
       "      <th>R</th>\n",
       "    </tr>\n",
       "  </thead>\n",
       "  <tbody>\n",
       "    <tr>\n",
       "      <td>0</td>\n",
       "      <td>1</td>\n",
       "      <td>0</td>\n",
       "      <td>0</td>\n",
       "      <td>1</td>\n",
       "      <td>0</td>\n",
       "    </tr>\n",
       "  </tbody>\n",
       "</table>\n",
       "</div>"
      ],
      "text/plain": [
       "   constant  G  PG  PG-13  R\n",
       "0         1  0   0      1  0"
      ]
     },
     "execution_count": 68,
     "metadata": {},
     "output_type": "execute_result"
    }
   ],
   "source": [
    "X_3 = X.copy()\n",
    "dummies = pd.get_dummies(movies[\"Rating\"])\n",
    "X_3 = pd.concat([X_3, dummies], axis=1)\n",
    "X_3.head(1)"
   ]
  },
  {
   "cell_type": "code",
   "execution_count": 69,
   "metadata": {},
   "outputs": [
    {
     "data": {
      "text/html": [
       "<table class=\"simpletable\">\n",
       "<caption>OLS Regression Results</caption>\n",
       "<tr>\n",
       "  <th>Dep. Variable:</th>    <td>DomesticTotalGross</td> <th>  R-squared:         </th> <td>   0.109</td>\n",
       "</tr>\n",
       "<tr>\n",
       "  <th>Model:</th>                    <td>OLS</td>        <th>  Adj. R-squared:    </th> <td>   0.081</td>\n",
       "</tr>\n",
       "<tr>\n",
       "  <th>Method:</th>              <td>Least Squares</td>   <th>  F-statistic:       </th> <td>   3.924</td>\n",
       "</tr>\n",
       "<tr>\n",
       "  <th>Date:</th>              <td>Mon, 14 Oct 2019</td>  <th>  Prob (F-statistic):</th>  <td>0.0109</td> \n",
       "</tr>\n",
       "<tr>\n",
       "  <th>Time:</th>                  <td>07:52:10</td>      <th>  Log-Likelihood:    </th> <td> -1964.2</td>\n",
       "</tr>\n",
       "<tr>\n",
       "  <th>No. Observations:</th>       <td>   100</td>       <th>  AIC:               </th> <td>   3936.</td>\n",
       "</tr>\n",
       "<tr>\n",
       "  <th>Df Residuals:</th>           <td>    96</td>       <th>  BIC:               </th> <td>   3947.</td>\n",
       "</tr>\n",
       "<tr>\n",
       "  <th>Df Model:</th>               <td>     3</td>       <th>                     </th>     <td> </td>   \n",
       "</tr>\n",
       "<tr>\n",
       "  <th>Covariance Type:</th>       <td>nonrobust</td>     <th>                     </th>     <td> </td>   \n",
       "</tr>\n",
       "</table>\n",
       "<table class=\"simpletable\">\n",
       "<tr>\n",
       "      <td></td>        <th>coef</th>     <th>std err</th>      <th>t</th>      <th>P>|t|</th>  <th>[0.025</th>    <th>0.975]</th>  \n",
       "</tr>\n",
       "<tr>\n",
       "  <th>constant</th> <td> 1.162e+08</td> <td> 1.77e+07</td> <td>    6.568</td> <td> 0.000</td> <td> 8.11e+07</td> <td> 1.51e+08</td>\n",
       "</tr>\n",
       "<tr>\n",
       "  <th>G</th>        <td> 1.523e+08</td> <td> 6.73e+07</td> <td>    2.265</td> <td> 0.026</td> <td> 1.88e+07</td> <td> 2.86e+08</td>\n",
       "</tr>\n",
       "<tr>\n",
       "  <th>PG</th>       <td> 1.494e+07</td> <td> 2.44e+07</td> <td>    0.613</td> <td> 0.541</td> <td>-3.34e+07</td> <td> 6.33e+07</td>\n",
       "</tr>\n",
       "<tr>\n",
       "  <th>PG-13</th>    <td>-4.744e+06</td> <td> 2.01e+07</td> <td>   -0.236</td> <td> 0.814</td> <td>-4.46e+07</td> <td> 3.51e+07</td>\n",
       "</tr>\n",
       "<tr>\n",
       "  <th>R</th>        <td> -4.63e+07</td> <td> 2.07e+07</td> <td>   -2.241</td> <td> 0.027</td> <td>-8.73e+07</td> <td> -5.3e+06</td>\n",
       "</tr>\n",
       "</table>\n",
       "<table class=\"simpletable\">\n",
       "<tr>\n",
       "  <th>Omnibus:</th>       <td>46.897</td> <th>  Durbin-Watson:     </th> <td>   0.240</td>\n",
       "</tr>\n",
       "<tr>\n",
       "  <th>Prob(Omnibus):</th> <td> 0.000</td> <th>  Jarque-Bera (JB):  </th> <td> 109.261</td>\n",
       "</tr>\n",
       "<tr>\n",
       "  <th>Skew:</th>          <td> 1.826</td> <th>  Prob(JB):          </th> <td>1.88e-24</td>\n",
       "</tr>\n",
       "<tr>\n",
       "  <th>Kurtosis:</th>      <td> 6.589</td> <th>  Cond. No.          </th> <td>1.85e+16</td>\n",
       "</tr>\n",
       "</table><br/><br/>Warnings:<br/>[1] Standard Errors assume that the covariance matrix of the errors is correctly specified.<br/>[2] The smallest eigenvalue is 4.08e-31. This might indicate that there are<br/>strong multicollinearity problems or that the design matrix is singular."
      ],
      "text/plain": [
       "<class 'statsmodels.iolib.summary.Summary'>\n",
       "\"\"\"\n",
       "                            OLS Regression Results                            \n",
       "==============================================================================\n",
       "Dep. Variable:     DomesticTotalGross   R-squared:                       0.109\n",
       "Model:                            OLS   Adj. R-squared:                  0.081\n",
       "Method:                 Least Squares   F-statistic:                     3.924\n",
       "Date:                Mon, 14 Oct 2019   Prob (F-statistic):             0.0109\n",
       "Time:                        07:52:10   Log-Likelihood:                -1964.2\n",
       "No. Observations:                 100   AIC:                             3936.\n",
       "Df Residuals:                      96   BIC:                             3947.\n",
       "Df Model:                           3                                         \n",
       "Covariance Type:            nonrobust                                         \n",
       "==============================================================================\n",
       "                 coef    std err          t      P>|t|      [0.025      0.975]\n",
       "------------------------------------------------------------------------------\n",
       "constant    1.162e+08   1.77e+07      6.568      0.000    8.11e+07    1.51e+08\n",
       "G           1.523e+08   6.73e+07      2.265      0.026    1.88e+07    2.86e+08\n",
       "PG          1.494e+07   2.44e+07      0.613      0.541   -3.34e+07    6.33e+07\n",
       "PG-13      -4.744e+06   2.01e+07     -0.236      0.814   -4.46e+07    3.51e+07\n",
       "R           -4.63e+07   2.07e+07     -2.241      0.027   -8.73e+07    -5.3e+06\n",
       "==============================================================================\n",
       "Omnibus:                       46.897   Durbin-Watson:                   0.240\n",
       "Prob(Omnibus):                  0.000   Jarque-Bera (JB):              109.261\n",
       "Skew:                           1.826   Prob(JB):                     1.88e-24\n",
       "Kurtosis:                       6.589   Cond. No.                     1.85e+16\n",
       "==============================================================================\n",
       "\n",
       "Warnings:\n",
       "[1] Standard Errors assume that the covariance matrix of the errors is correctly specified.\n",
       "[2] The smallest eigenvalue is 4.08e-31. This might indicate that there are\n",
       "strong multicollinearity problems or that the design matrix is singular.\n",
       "\"\"\""
      ]
     },
     "execution_count": 69,
     "metadata": {},
     "output_type": "execute_result"
    }
   ],
   "source": [
    "model = sm.OLS(y, X_3)\n",
    "fitted = model.fit()\n",
    "fitted.summary()"
   ]
  },
  {
   "cell_type": "markdown",
   "metadata": {},
   "source": [
    "An average movie's domestic gross start $116,200,000. G and PG movies bring in more ticket gross, while PG13 and R bring less than average."
   ]
  },
  {
   "cell_type": "markdown",
   "metadata": {},
   "source": [
    "## Challenge 4\n",
    "Enhance your model further by adding more features and/or transforming existing features. Think about how you build the model matrix and how to interpret what the model is doing."
   ]
  },
  {
   "cell_type": "code",
   "execution_count": 70,
   "metadata": {},
   "outputs": [
    {
     "data": {
      "text/html": [
       "<div>\n",
       "<style scoped>\n",
       "    .dataframe tbody tr th:only-of-type {\n",
       "        vertical-align: middle;\n",
       "    }\n",
       "\n",
       "    .dataframe tbody tr th {\n",
       "        vertical-align: top;\n",
       "    }\n",
       "\n",
       "    .dataframe thead th {\n",
       "        text-align: right;\n",
       "    }\n",
       "</style>\n",
       "<table border=\"1\" class=\"dataframe\">\n",
       "  <thead>\n",
       "    <tr style=\"text-align: right;\">\n",
       "      <th></th>\n",
       "      <th>constant</th>\n",
       "      <th>G</th>\n",
       "      <th>PG</th>\n",
       "      <th>PG-13</th>\n",
       "      <th>R</th>\n",
       "      <th>Budget</th>\n",
       "      <th>Runtime</th>\n",
       "    </tr>\n",
       "  </thead>\n",
       "  <tbody>\n",
       "    <tr>\n",
       "      <td>0</td>\n",
       "      <td>1</td>\n",
       "      <td>0</td>\n",
       "      <td>0</td>\n",
       "      <td>1</td>\n",
       "      <td>0</td>\n",
       "      <td>130000000.0</td>\n",
       "      <td>146</td>\n",
       "    </tr>\n",
       "    <tr>\n",
       "      <td>1</td>\n",
       "      <td>1</td>\n",
       "      <td>0</td>\n",
       "      <td>0</td>\n",
       "      <td>1</td>\n",
       "      <td>0</td>\n",
       "      <td>200000000.0</td>\n",
       "      <td>129</td>\n",
       "    </tr>\n",
       "  </tbody>\n",
       "</table>\n",
       "</div>"
      ],
      "text/plain": [
       "   constant  G  PG  PG-13  R       Budget  Runtime\n",
       "0         1  0   0      1  0  130000000.0      146\n",
       "1         1  0   0      1  0  200000000.0      129"
      ]
     },
     "execution_count": 70,
     "metadata": {},
     "output_type": "execute_result"
    }
   ],
   "source": [
    "X_4 = X_3.copy()\n",
    "X_4['Budget'] = movies['Budget']\n",
    "X_4['Runtime'] = movies['Runtime']\n",
    "X_4.head(2)"
   ]
  },
  {
   "cell_type": "code",
   "execution_count": 71,
   "metadata": {},
   "outputs": [
    {
     "data": {
      "text/html": [
       "<table class=\"simpletable\">\n",
       "<caption>OLS Regression Results</caption>\n",
       "<tr>\n",
       "  <th>Dep. Variable:</th>    <td>DomesticTotalGross</td> <th>  R-squared:         </th> <td>   0.302</td>\n",
       "</tr>\n",
       "<tr>\n",
       "  <th>Model:</th>                    <td>OLS</td>        <th>  Adj. R-squared:    </th> <td>   0.269</td>\n",
       "</tr>\n",
       "<tr>\n",
       "  <th>Method:</th>              <td>Least Squares</td>   <th>  F-statistic:       </th> <td>   9.089</td>\n",
       "</tr>\n",
       "<tr>\n",
       "  <th>Date:</th>              <td>Mon, 14 Oct 2019</td>  <th>  Prob (F-statistic):</th> <td>3.77e-06</td>\n",
       "</tr>\n",
       "<tr>\n",
       "  <th>Time:</th>                  <td>08:01:12</td>      <th>  Log-Likelihood:    </th> <td> -1737.0</td>\n",
       "</tr>\n",
       "<tr>\n",
       "  <th>No. Observations:</th>       <td>    89</td>       <th>  AIC:               </th> <td>   3484.</td>\n",
       "</tr>\n",
       "<tr>\n",
       "  <th>Df Residuals:</th>           <td>    84</td>       <th>  BIC:               </th> <td>   3497.</td>\n",
       "</tr>\n",
       "<tr>\n",
       "  <th>Df Model:</th>               <td>     4</td>       <th>                     </th>     <td> </td>   \n",
       "</tr>\n",
       "<tr>\n",
       "  <th>Covariance Type:</th>       <td>nonrobust</td>     <th>                     </th>     <td> </td>   \n",
       "</tr>\n",
       "</table>\n",
       "<table class=\"simpletable\">\n",
       "<tr>\n",
       "      <td></td>        <th>coef</th>     <th>std err</th>      <th>t</th>      <th>P>|t|</th>  <th>[0.025</th>    <th>0.975]</th>  \n",
       "</tr>\n",
       "<tr>\n",
       "  <th>constant</th> <td>-1.012e+07</td> <td> 4.05e+07</td> <td>   -0.250</td> <td> 0.803</td> <td>-9.08e+07</td> <td> 7.05e+07</td>\n",
       "</tr>\n",
       "<tr>\n",
       "  <th>G</th>        <td>   -0.0509</td> <td>    0.374</td> <td>   -0.136</td> <td> 0.892</td> <td>   -0.795</td> <td>    0.693</td>\n",
       "</tr>\n",
       "<tr>\n",
       "  <th>PG</th>       <td> 1.438e+07</td> <td> 1.74e+07</td> <td>    0.826</td> <td> 0.411</td> <td>-2.02e+07</td> <td>  4.9e+07</td>\n",
       "</tr>\n",
       "<tr>\n",
       "  <th>PG-13</th>    <td>-1.342e+07</td> <td> 1.98e+07</td> <td>   -0.677</td> <td> 0.500</td> <td>-5.28e+07</td> <td>  2.6e+07</td>\n",
       "</tr>\n",
       "<tr>\n",
       "  <th>R</th>        <td>-1.109e+07</td> <td> 2.03e+07</td> <td>   -0.547</td> <td> 0.586</td> <td>-5.14e+07</td> <td> 2.92e+07</td>\n",
       "</tr>\n",
       "<tr>\n",
       "  <th>Budget</th>   <td>    0.7036</td> <td>    0.165</td> <td>    4.255</td> <td> 0.000</td> <td>    0.375</td> <td>    1.032</td>\n",
       "</tr>\n",
       "<tr>\n",
       "  <th>Runtime</th>  <td> 6.083e+05</td> <td> 5.21e+05</td> <td>    1.168</td> <td> 0.246</td> <td>-4.27e+05</td> <td> 1.64e+06</td>\n",
       "</tr>\n",
       "</table>\n",
       "<table class=\"simpletable\">\n",
       "<tr>\n",
       "  <th>Omnibus:</th>       <td>36.883</td> <th>  Durbin-Watson:     </th> <td>   0.740</td>\n",
       "</tr>\n",
       "<tr>\n",
       "  <th>Prob(Omnibus):</th> <td> 0.000</td> <th>  Jarque-Bera (JB):  </th> <td>  82.319</td>\n",
       "</tr>\n",
       "<tr>\n",
       "  <th>Skew:</th>          <td> 1.525</td> <th>  Prob(JB):          </th> <td>1.33e-18</td>\n",
       "</tr>\n",
       "<tr>\n",
       "  <th>Kurtosis:</th>      <td> 6.591</td> <th>  Cond. No.          </th> <td>6.98e+23</td>\n",
       "</tr>\n",
       "</table><br/><br/>Warnings:<br/>[1] Standard Errors assume that the covariance matrix of the errors is correctly specified.<br/>[2] The smallest eigenvalue is 1.66e-30. This might indicate that there are<br/>strong multicollinearity problems or that the design matrix is singular."
      ],
      "text/plain": [
       "<class 'statsmodels.iolib.summary.Summary'>\n",
       "\"\"\"\n",
       "                            OLS Regression Results                            \n",
       "==============================================================================\n",
       "Dep. Variable:     DomesticTotalGross   R-squared:                       0.302\n",
       "Model:                            OLS   Adj. R-squared:                  0.269\n",
       "Method:                 Least Squares   F-statistic:                     9.089\n",
       "Date:                Mon, 14 Oct 2019   Prob (F-statistic):           3.77e-06\n",
       "Time:                        08:01:12   Log-Likelihood:                -1737.0\n",
       "No. Observations:                  89   AIC:                             3484.\n",
       "Df Residuals:                      84   BIC:                             3497.\n",
       "Df Model:                           4                                         \n",
       "Covariance Type:            nonrobust                                         \n",
       "==============================================================================\n",
       "                 coef    std err          t      P>|t|      [0.025      0.975]\n",
       "------------------------------------------------------------------------------\n",
       "constant   -1.012e+07   4.05e+07     -0.250      0.803   -9.08e+07    7.05e+07\n",
       "G             -0.0509      0.374     -0.136      0.892      -0.795       0.693\n",
       "PG          1.438e+07   1.74e+07      0.826      0.411   -2.02e+07     4.9e+07\n",
       "PG-13      -1.342e+07   1.98e+07     -0.677      0.500   -5.28e+07     2.6e+07\n",
       "R          -1.109e+07   2.03e+07     -0.547      0.586   -5.14e+07    2.92e+07\n",
       "Budget         0.7036      0.165      4.255      0.000       0.375       1.032\n",
       "Runtime     6.083e+05   5.21e+05      1.168      0.246   -4.27e+05    1.64e+06\n",
       "==============================================================================\n",
       "Omnibus:                       36.883   Durbin-Watson:                   0.740\n",
       "Prob(Omnibus):                  0.000   Jarque-Bera (JB):               82.319\n",
       "Skew:                           1.525   Prob(JB):                     1.33e-18\n",
       "Kurtosis:                       6.591   Cond. No.                     6.98e+23\n",
       "==============================================================================\n",
       "\n",
       "Warnings:\n",
       "[1] Standard Errors assume that the covariance matrix of the errors is correctly specified.\n",
       "[2] The smallest eigenvalue is 1.66e-30. This might indicate that there are\n",
       "strong multicollinearity problems or that the design matrix is singular.\n",
       "\"\"\""
      ]
     },
     "execution_count": 71,
     "metadata": {},
     "output_type": "execute_result"
    }
   ],
   "source": [
    "model = sm.OLS(y, X_4, missing='drop')\n",
    "fitted = model.fit()\n",
    "fitted.summary()"
   ]
  },
  {
   "cell_type": "markdown",
   "metadata": {},
   "source": [
    "## Challenge 5\n",
    "Fitting and checking predictions on the exact same data set can be misleading. Divide your data into two sets: a training and a test set (roughly 75% training, 25% test is a fine split). Fit a model on the training set, check the predictions (by plotting versus actual values) in the test set."
   ]
  },
  {
   "cell_type": "code",
   "execution_count": 73,
   "metadata": {},
   "outputs": [],
   "source": [
    "X_train, X_test, y_train, y_test = train_test_split(X_4, y, test_size=0.25, random_state=42)"
   ]
  },
  {
   "cell_type": "code",
   "execution_count": 74,
   "metadata": {},
   "outputs": [
    {
     "data": {
      "text/html": [
       "<table class=\"simpletable\">\n",
       "<caption>OLS Regression Results</caption>\n",
       "<tr>\n",
       "  <th>Dep. Variable:</th>    <td>DomesticTotalGross</td> <th>  R-squared:         </th> <td>   0.362</td>\n",
       "</tr>\n",
       "<tr>\n",
       "  <th>Model:</th>                    <td>OLS</td>        <th>  Adj. R-squared:    </th> <td>   0.320</td>\n",
       "</tr>\n",
       "<tr>\n",
       "  <th>Method:</th>              <td>Least Squares</td>   <th>  F-statistic:       </th> <td>   8.663</td>\n",
       "</tr>\n",
       "<tr>\n",
       "  <th>Date:</th>              <td>Mon, 14 Oct 2019</td>  <th>  Prob (F-statistic):</th> <td>1.33e-05</td>\n",
       "</tr>\n",
       "<tr>\n",
       "  <th>Time:</th>                  <td>08:06:28</td>      <th>  Log-Likelihood:    </th> <td> -1283.2</td>\n",
       "</tr>\n",
       "<tr>\n",
       "  <th>No. Observations:</th>       <td>    66</td>       <th>  AIC:               </th> <td>   2576.</td>\n",
       "</tr>\n",
       "<tr>\n",
       "  <th>Df Residuals:</th>           <td>    61</td>       <th>  BIC:               </th> <td>   2587.</td>\n",
       "</tr>\n",
       "<tr>\n",
       "  <th>Df Model:</th>               <td>     4</td>       <th>                     </th>     <td> </td>   \n",
       "</tr>\n",
       "<tr>\n",
       "  <th>Covariance Type:</th>       <td>nonrobust</td>     <th>                     </th>     <td> </td>   \n",
       "</tr>\n",
       "</table>\n",
       "<table class=\"simpletable\">\n",
       "<tr>\n",
       "      <td></td>        <th>coef</th>     <th>std err</th>      <th>t</th>      <th>P>|t|</th>  <th>[0.025</th>    <th>0.975]</th>  \n",
       "</tr>\n",
       "<tr>\n",
       "  <th>constant</th> <td>-5.602e+05</td> <td> 4.37e+07</td> <td>   -0.013</td> <td> 0.990</td> <td> -8.8e+07</td> <td> 8.69e+07</td>\n",
       "</tr>\n",
       "<tr>\n",
       "  <th>G</th>        <td>    0.0106</td> <td>    0.143</td> <td>    0.074</td> <td> 0.941</td> <td>   -0.275</td> <td>    0.296</td>\n",
       "</tr>\n",
       "<tr>\n",
       "  <th>PG</th>       <td> 8.617e+06</td> <td> 1.84e+07</td> <td>    0.469</td> <td> 0.641</td> <td>-2.81e+07</td> <td> 4.54e+07</td>\n",
       "</tr>\n",
       "<tr>\n",
       "  <th>PG-13</th>    <td>-9.269e+06</td> <td> 2.11e+07</td> <td>   -0.439</td> <td> 0.662</td> <td>-5.15e+07</td> <td> 3.29e+07</td>\n",
       "</tr>\n",
       "<tr>\n",
       "  <th>R</th>        <td> 9.217e+04</td> <td> 2.14e+07</td> <td>    0.004</td> <td> 0.997</td> <td>-4.26e+07</td> <td> 4.28e+07</td>\n",
       "</tr>\n",
       "<tr>\n",
       "  <th>Budget</th>   <td>    0.9767</td> <td>    0.200</td> <td>    4.892</td> <td> 0.000</td> <td>    0.577</td> <td>    1.376</td>\n",
       "</tr>\n",
       "<tr>\n",
       "  <th>Runtime</th>  <td> 3.352e+05</td> <td> 5.51e+05</td> <td>    0.609</td> <td> 0.545</td> <td>-7.66e+05</td> <td> 1.44e+06</td>\n",
       "</tr>\n",
       "</table>\n",
       "<table class=\"simpletable\">\n",
       "<tr>\n",
       "  <th>Omnibus:</th>       <td>28.976</td> <th>  Durbin-Watson:     </th> <td>   2.009</td>\n",
       "</tr>\n",
       "<tr>\n",
       "  <th>Prob(Omnibus):</th> <td> 0.000</td> <th>  Jarque-Bera (JB):  </th> <td>  53.960</td>\n",
       "</tr>\n",
       "<tr>\n",
       "  <th>Skew:</th>          <td> 1.532</td> <th>  Prob(JB):          </th> <td>1.92e-12</td>\n",
       "</tr>\n",
       "<tr>\n",
       "  <th>Kurtosis:</th>      <td> 6.200</td> <th>  Cond. No.          </th> <td>6.84e+24</td>\n",
       "</tr>\n",
       "</table><br/><br/>Warnings:<br/>[1] Standard Errors assume that the covariance matrix of the errors is correctly specified.<br/>[2] The smallest eigenvalue is 9.86e-33. This might indicate that there are<br/>strong multicollinearity problems or that the design matrix is singular."
      ],
      "text/plain": [
       "<class 'statsmodels.iolib.summary.Summary'>\n",
       "\"\"\"\n",
       "                            OLS Regression Results                            \n",
       "==============================================================================\n",
       "Dep. Variable:     DomesticTotalGross   R-squared:                       0.362\n",
       "Model:                            OLS   Adj. R-squared:                  0.320\n",
       "Method:                 Least Squares   F-statistic:                     8.663\n",
       "Date:                Mon, 14 Oct 2019   Prob (F-statistic):           1.33e-05\n",
       "Time:                        08:06:28   Log-Likelihood:                -1283.2\n",
       "No. Observations:                  66   AIC:                             2576.\n",
       "Df Residuals:                      61   BIC:                             2587.\n",
       "Df Model:                           4                                         \n",
       "Covariance Type:            nonrobust                                         \n",
       "==============================================================================\n",
       "                 coef    std err          t      P>|t|      [0.025      0.975]\n",
       "------------------------------------------------------------------------------\n",
       "constant   -5.602e+05   4.37e+07     -0.013      0.990    -8.8e+07    8.69e+07\n",
       "G              0.0106      0.143      0.074      0.941      -0.275       0.296\n",
       "PG          8.617e+06   1.84e+07      0.469      0.641   -2.81e+07    4.54e+07\n",
       "PG-13      -9.269e+06   2.11e+07     -0.439      0.662   -5.15e+07    3.29e+07\n",
       "R           9.217e+04   2.14e+07      0.004      0.997   -4.26e+07    4.28e+07\n",
       "Budget         0.9767      0.200      4.892      0.000       0.577       1.376\n",
       "Runtime     3.352e+05   5.51e+05      0.609      0.545   -7.66e+05    1.44e+06\n",
       "==============================================================================\n",
       "Omnibus:                       28.976   Durbin-Watson:                   2.009\n",
       "Prob(Omnibus):                  0.000   Jarque-Bera (JB):               53.960\n",
       "Skew:                           1.532   Prob(JB):                     1.92e-12\n",
       "Kurtosis:                       6.200   Cond. No.                     6.84e+24\n",
       "==============================================================================\n",
       "\n",
       "Warnings:\n",
       "[1] Standard Errors assume that the covariance matrix of the errors is correctly specified.\n",
       "[2] The smallest eigenvalue is 9.86e-33. This might indicate that there are\n",
       "strong multicollinearity problems or that the design matrix is singular.\n",
       "\"\"\""
      ]
     },
     "execution_count": 74,
     "metadata": {},
     "output_type": "execute_result"
    }
   ],
   "source": [
    "model = sm.OLS(y_train, X_train, missing='drop')\n",
    "fitted = model.fit()\n",
    "fitted.summary()"
   ]
  },
  {
   "cell_type": "code",
   "execution_count": 75,
   "metadata": {},
   "outputs": [],
   "source": [
    "predicted = fitted.predict(X_test)"
   ]
  },
  {
   "cell_type": "code",
   "execution_count": 77,
   "metadata": {},
   "outputs": [
    {
     "data": {
      "text/plain": [
       "Text(0, 0.5, 'Predicted y value')"
      ]
     },
     "execution_count": 77,
     "metadata": {},
     "output_type": "execute_result"
    },
    {
     "data": {
      "image/png": "[encoded data removed]",
      "text/plain": [
       "<Figure size 432x288 with 1 Axes>"
      ]
     },
     "metadata": {},
     "output_type": "display_data"
    }
   ],
   "source": [
    "plt.plot(y_test, predicted, 'g.')\n",
    "plt.title('Predicted y vs Actual y on the test set')\n",
    "plt.xlabel('Actual y value')\n",
    "plt.ylabel('Predicted y value')"
   ]
  },
  {
   "cell_type": "code",
   "execution_count": null,
   "metadata": {},
   "outputs": [],
   "source": []
  }
 ],
 "metadata": {
  "kernelspec": {
   "display_name": "Python 3",
   "language": "python",
   "name": "python3"
  },
  "language_info": {
   "codemirror_mode": {
    "name": "ipython",
    "version": 3
   },
   "file_extension": ".py",
   "mimetype": "text/x-python",
   "name": "python",
   "nbconvert_exporter": "python",
   "pygments_lexer": "ipython3",
   "version": "3.7.4"
  }
 },
 "nbformat": 4,
 "nbformat_minor": 2
}
