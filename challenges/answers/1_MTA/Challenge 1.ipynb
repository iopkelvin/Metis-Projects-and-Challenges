{
 "cells": [
  {
   "cell_type": "code",
   "execution_count": 146,
   "metadata": {},
   "outputs": [],
   "source": [
    "# import relevant libraries\n",
    "import pandas as pd\n",
    "import numpy as np\n",
    "from datetime import datetime, timedelta\n",
    "import csv\n",
    "from matplotlib.dates import DateFormatter\n",
    "import matplotlib.pyplot as plt\n",
    "%matplotlib inline\n",
    "import seaborn as sns\n",
    "import glob\n",
    "import collections"
   ]
  },
  {
   "cell_type": "markdown",
   "metadata": {},
   "source": [
    "## Reading NYC MTA dataset"
   ]
  },
  {
   "cell_type": "code",
   "execution_count": 147,
   "metadata": {},
   "outputs": [],
   "source": [
    "def read(file):\n",
    "    return pd.read_csv(file)"
   ]
  },
  {
   "cell_type": "code",
   "execution_count": 148,
   "metadata": {},
   "outputs": [
    {
     "data": {
      "text/html": [
       "<div>\n",
       "<style scoped>\n",
       "    .dataframe tbody tr th:only-of-type {\n",
       "        vertical-align: middle;\n",
       "    }\n",
       "\n",
       "    .dataframe tbody tr th {\n",
       "        vertical-align: top;\n",
       "    }\n",
       "\n",
       "    .dataframe thead th {\n",
       "        text-align: right;\n",
       "    }\n",
       "</style>\n",
       "<table border=\"1\" class=\"dataframe\">\n",
       "  <thead>\n",
       "    <tr style=\"text-align: right;\">\n",
       "      <th></th>\n",
       "      <th>C/A</th>\n",
       "      <th>UNIT</th>\n",
       "      <th>SCP</th>\n",
       "      <th>STATION</th>\n",
       "      <th>LINENAME</th>\n",
       "      <th>DIVISION</th>\n",
       "      <th>DATE</th>\n",
       "      <th>TIME</th>\n",
       "      <th>DESC</th>\n",
       "      <th>ENTRIES</th>\n",
       "      <th>EXITS</th>\n",
       "    </tr>\n",
       "  </thead>\n",
       "  <tbody>\n",
       "    <tr>\n",
       "      <td>0</td>\n",
       "      <td>A002</td>\n",
       "      <td>R051</td>\n",
       "      <td>02-00-00</td>\n",
       "      <td>59 ST</td>\n",
       "      <td>NQR456W</td>\n",
       "      <td>BMT</td>\n",
       "      <td>02/23/2019</td>\n",
       "      <td>03:00:00</td>\n",
       "      <td>REGULAR</td>\n",
       "      <td>6955483</td>\n",
       "      <td>2359112</td>\n",
       "    </tr>\n",
       "    <tr>\n",
       "      <td>1</td>\n",
       "      <td>A002</td>\n",
       "      <td>R051</td>\n",
       "      <td>02-00-00</td>\n",
       "      <td>59 ST</td>\n",
       "      <td>NQR456W</td>\n",
       "      <td>BMT</td>\n",
       "      <td>02/23/2019</td>\n",
       "      <td>07:00:00</td>\n",
       "      <td>REGULAR</td>\n",
       "      <td>6955494</td>\n",
       "      <td>2359125</td>\n",
       "    </tr>\n",
       "    <tr>\n",
       "      <td>2</td>\n",
       "      <td>A002</td>\n",
       "      <td>R051</td>\n",
       "      <td>02-00-00</td>\n",
       "      <td>59 ST</td>\n",
       "      <td>NQR456W</td>\n",
       "      <td>BMT</td>\n",
       "      <td>02/23/2019</td>\n",
       "      <td>11:00:00</td>\n",
       "      <td>REGULAR</td>\n",
       "      <td>6955554</td>\n",
       "      <td>2359199</td>\n",
       "    </tr>\n",
       "    <tr>\n",
       "      <td>3</td>\n",
       "      <td>A002</td>\n",
       "      <td>R051</td>\n",
       "      <td>02-00-00</td>\n",
       "      <td>59 ST</td>\n",
       "      <td>NQR456W</td>\n",
       "      <td>BMT</td>\n",
       "      <td>02/23/2019</td>\n",
       "      <td>15:00:00</td>\n",
       "      <td>REGULAR</td>\n",
       "      <td>6955714</td>\n",
       "      <td>2359248</td>\n",
       "    </tr>\n",
       "    <tr>\n",
       "      <td>4</td>\n",
       "      <td>A002</td>\n",
       "      <td>R051</td>\n",
       "      <td>02-00-00</td>\n",
       "      <td>59 ST</td>\n",
       "      <td>NQR456W</td>\n",
       "      <td>BMT</td>\n",
       "      <td>02/23/2019</td>\n",
       "      <td>19:00:00</td>\n",
       "      <td>REGULAR</td>\n",
       "      <td>6956004</td>\n",
       "      <td>2359292</td>\n",
       "    </tr>\n",
       "  </tbody>\n",
       "</table>\n",
       "</div>"
      ],
      "text/plain": [
       "    C/A  UNIT       SCP STATION LINENAME DIVISION        DATE      TIME  \\\n",
       "0  A002  R051  02-00-00   59 ST  NQR456W      BMT  02/23/2019  03:00:00   \n",
       "1  A002  R051  02-00-00   59 ST  NQR456W      BMT  02/23/2019  07:00:00   \n",
       "2  A002  R051  02-00-00   59 ST  NQR456W      BMT  02/23/2019  11:00:00   \n",
       "3  A002  R051  02-00-00   59 ST  NQR456W      BMT  02/23/2019  15:00:00   \n",
       "4  A002  R051  02-00-00   59 ST  NQR456W      BMT  02/23/2019  19:00:00   \n",
       "\n",
       "      DESC  ENTRIES  \\\n",
       "0  REGULAR  6955483   \n",
       "1  REGULAR  6955494   \n",
       "2  REGULAR  6955554   \n",
       "3  REGULAR  6955714   \n",
       "4  REGULAR  6956004   \n",
       "\n",
       "   EXITS                                                                 \n",
       "0                                            2359112                     \n",
       "1                                            2359125                     \n",
       "2                                            2359199                     \n",
       "3                                            2359248                     \n",
       "4                                            2359292                     "
      ]
     },
     "execution_count": 148,
     "metadata": {},
     "output_type": "execute_result"
    }
   ],
   "source": [
    "mta_data = read('turnstile_190302.txt')\n",
    "mta_data.head()"
   ]
  },
  {
   "cell_type": "markdown",
   "metadata": {},
   "source": [
    "**Will only use 100 rows in the dataset**"
   ]
  },
  {
   "cell_type": "code",
   "execution_count": 149,
   "metadata": {},
   "outputs": [
    {
     "name": "stdout",
     "output_type": "stream",
     "text": [
      "Shape:  (203189, 11)\n"
     ]
    }
   ],
   "source": [
    "#mta_data = mta_data.sample(100)\n",
    "print(\"Shape: \", mta_data.shape)"
   ]
  },
  {
   "cell_type": "code",
   "execution_count": 150,
   "metadata": {},
   "outputs": [
    {
     "data": {
      "text/plain": [
       "Index(['c_a', 'unit', 'scp', 'station', 'linename', 'division', 'date', 'time',\n",
       "       'desc', 'entries', 'exits'],\n",
       "      dtype='object')"
      ]
     },
     "execution_count": 150,
     "metadata": {},
     "output_type": "execute_result"
    }
   ],
   "source": [
    "#Standardazing dataset columns\n",
    "mta_data.columns = mta_data.columns.str.strip().str.lower().str.replace('/','_')\n",
    "mta_data.columns"
   ]
  },
  {
   "cell_type": "code",
   "execution_count": 151,
   "metadata": {},
   "outputs": [
    {
     "data": {
      "text/html": [
       "<div>\n",
       "<style scoped>\n",
       "    .dataframe tbody tr th:only-of-type {\n",
       "        vertical-align: middle;\n",
       "    }\n",
       "\n",
       "    .dataframe tbody tr th {\n",
       "        vertical-align: top;\n",
       "    }\n",
       "\n",
       "    .dataframe thead th {\n",
       "        text-align: right;\n",
       "    }\n",
       "</style>\n",
       "<table border=\"1\" class=\"dataframe\">\n",
       "  <thead>\n",
       "    <tr style=\"text-align: right;\">\n",
       "      <th></th>\n",
       "      <th>c_a</th>\n",
       "      <th>unit</th>\n",
       "      <th>scp</th>\n",
       "      <th>station</th>\n",
       "      <th>linename</th>\n",
       "      <th>division</th>\n",
       "      <th>date</th>\n",
       "      <th>time</th>\n",
       "      <th>desc</th>\n",
       "      <th>entries</th>\n",
       "      <th>exits</th>\n",
       "    </tr>\n",
       "  </thead>\n",
       "  <tbody>\n",
       "    <tr>\n",
       "      <td>0</td>\n",
       "      <td>A002</td>\n",
       "      <td>R051</td>\n",
       "      <td>02-00-00</td>\n",
       "      <td>59 ST</td>\n",
       "      <td>NQR456W</td>\n",
       "      <td>BMT</td>\n",
       "      <td>02/23/2019</td>\n",
       "      <td>03:00:00</td>\n",
       "      <td>REGULAR</td>\n",
       "      <td>6955483</td>\n",
       "      <td>2359112</td>\n",
       "    </tr>\n",
       "    <tr>\n",
       "      <td>1</td>\n",
       "      <td>A002</td>\n",
       "      <td>R051</td>\n",
       "      <td>02-00-00</td>\n",
       "      <td>59 ST</td>\n",
       "      <td>NQR456W</td>\n",
       "      <td>BMT</td>\n",
       "      <td>02/23/2019</td>\n",
       "      <td>07:00:00</td>\n",
       "      <td>REGULAR</td>\n",
       "      <td>6955494</td>\n",
       "      <td>2359125</td>\n",
       "    </tr>\n",
       "    <tr>\n",
       "      <td>2</td>\n",
       "      <td>A002</td>\n",
       "      <td>R051</td>\n",
       "      <td>02-00-00</td>\n",
       "      <td>59 ST</td>\n",
       "      <td>NQR456W</td>\n",
       "      <td>BMT</td>\n",
       "      <td>02/23/2019</td>\n",
       "      <td>11:00:00</td>\n",
       "      <td>REGULAR</td>\n",
       "      <td>6955554</td>\n",
       "      <td>2359199</td>\n",
       "    </tr>\n",
       "    <tr>\n",
       "      <td>3</td>\n",
       "      <td>A002</td>\n",
       "      <td>R051</td>\n",
       "      <td>02-00-00</td>\n",
       "      <td>59 ST</td>\n",
       "      <td>NQR456W</td>\n",
       "      <td>BMT</td>\n",
       "      <td>02/23/2019</td>\n",
       "      <td>15:00:00</td>\n",
       "      <td>REGULAR</td>\n",
       "      <td>6955714</td>\n",
       "      <td>2359248</td>\n",
       "    </tr>\n",
       "    <tr>\n",
       "      <td>4</td>\n",
       "      <td>A002</td>\n",
       "      <td>R051</td>\n",
       "      <td>02-00-00</td>\n",
       "      <td>59 ST</td>\n",
       "      <td>NQR456W</td>\n",
       "      <td>BMT</td>\n",
       "      <td>02/23/2019</td>\n",
       "      <td>19:00:00</td>\n",
       "      <td>REGULAR</td>\n",
       "      <td>6956004</td>\n",
       "      <td>2359292</td>\n",
       "    </tr>\n",
       "  </tbody>\n",
       "</table>\n",
       "</div>"
      ],
      "text/plain": [
       "    c_a  unit       scp station linename division        date      time  \\\n",
       "0  A002  R051  02-00-00   59 ST  NQR456W      BMT  02/23/2019  03:00:00   \n",
       "1  A002  R051  02-00-00   59 ST  NQR456W      BMT  02/23/2019  07:00:00   \n",
       "2  A002  R051  02-00-00   59 ST  NQR456W      BMT  02/23/2019  11:00:00   \n",
       "3  A002  R051  02-00-00   59 ST  NQR456W      BMT  02/23/2019  15:00:00   \n",
       "4  A002  R051  02-00-00   59 ST  NQR456W      BMT  02/23/2019  19:00:00   \n",
       "\n",
       "      desc  entries    exits  \n",
       "0  REGULAR  6955483  2359112  \n",
       "1  REGULAR  6955494  2359125  \n",
       "2  REGULAR  6955554  2359199  \n",
       "3  REGULAR  6955714  2359248  \n",
       "4  REGULAR  6956004  2359292  "
      ]
     },
     "execution_count": 151,
     "metadata": {},
     "output_type": "execute_result"
    }
   ],
   "source": [
    "mta_data.head()"
   ]
  },
  {
   "cell_type": "markdown",
   "metadata": {},
   "source": [
    "## Challenge 1\n",
    "* Open up a new IPython notebook\n",
    "* Download a few MTA turnstile data files\n",
    "* Open up a file, use csv reader to read it, make a python dict where there is a key for each (C/A, UNIT, SCP, STATION). These are the first four columns. The value for this key should be a list of lists. Each list in the list is the rest of the columns in a row. For example, one key-value pair should look like:\n",
    "\n",
    "{ ('A002','R051','02-00-00','LEXINGTON AVE'): [ ['NQR456', 'BMT', '01/03/2015', '03:00:00', 'REGULAR', '0004945474', '0001675324'], ['NQR456', 'BMT', '01/03/2015', '07:00:00', 'REGULAR', '0004945478', '0001675333'], ['NQR456', 'BMT', '01/03/2015', '11:00:00', 'REGULAR', '0004945515', '0001675364'], ... ] }"
   ]
  },
  {
   "cell_type": "code",
   "execution_count": 152,
   "metadata": {},
   "outputs": [],
   "source": [
    "#Dictionary function turns dataframe into a dictionary with tuple keys and value list of lists\n",
    "def dictionary(data):\n",
    "    diction = collections.defaultdict(list)\n",
    "    for idx, row in data.iterrows():\n",
    "        key = tuple(row[0:4])\n",
    "        value = row[4:].tolist()\n",
    "        diction[key].append(value)\n",
    "    return diction"
   ]
  },
  {
   "cell_type": "code",
   "execution_count": 154,
   "metadata": {},
   "outputs": [],
   "source": [
    "dictionary = dictionary(mta_data)\n",
    "#dictionary"
   ]
  },
  {
   "cell_type": "markdown",
   "metadata": {},
   "source": [
    "## Challenge 2\n",
    "* Let's turn this into a time series.\n",
    "\n",
    "For each key (basically the control area, unit, device address and station of a specific turnstile), have a list again, but let the list be comprised of just the point in time and the count of entries.\n",
    "\n",
    "This basically means keeping only the date, time, and entries fields in each list. You can convert the date and time into datetime objects -- That is a python class that represents a point in time. You can combine the date and time fields into a string and use the dateutil module to convert it into a datetime object. For an example check this StackOverflow question.\n",
    "\n",
    "Your new dict should look something like\n",
    "\n",
    "\n",
    "{ ('A002','R051','02-00-00','LEXINGTON AVE'): [ [datetime.datetime(2013, 3, 2, 3, 0), 3788], [datetime.datetime(2013, 3, 2, 7, 0), 2585], [datetime.datetime(2013, 3, 2, 12, 0), 10653], [datetime.datetime(2013, 3, 2, 17, 0), 11016], [datetime.datetime(2013, 3, 2, 23, 0), 10666], [datetime.datetime(2013, 3, 3, 3, 0), 10814], [datetime.datetime(2013, 3, 3, 7, 0), 10229], ... ], .... }"
   ]
  },
  {
   "cell_type": "code",
   "execution_count": 156,
   "metadata": {},
   "outputs": [],
   "source": [
    "def dict_date(dictionary):\n",
    "    dictionary[\"date_time\"] = pd.to_datetime(dictionary[\"date\"] + dictionary[\"time\"], format='%m/%d/%Y%H:%M:%S')\n",
    "    data = { key: [[pd.to_datetime(date+time, format='%m/%d/%Y%H:%M:%S'), entry] \n",
    "                   for _, _, date, time, _, entry, _ in value]\n",
    "            for key, value in dictionary.items()\n",
    "           }\n",
    "    return data"
   ]
  },
  {
   "cell_type": "code",
   "execution_count": 157,
   "metadata": {},
   "outputs": [],
   "source": [
    "date_dict = dict_date(dictionary)\n",
    "#date_dict"
   ]
  },
  {
   "cell_type": "markdown",
   "metadata": {},
   "source": [
    "## Challenge 3\n",
    "* These counts are for every n hours. (What is n?) We want total daily entries.\n",
    "\n",
    "Now make it that we again have the same keys, but now we have a single value for a single day, which is the total number of passengers that entered through this turnstile on this day."
   ]
  },
  {
   "cell_type": "code",
   "execution_count": 158,
   "metadata": {},
   "outputs": [],
   "source": [
    "def daily_total(my_dictionary):\n",
    "    result = dict()\n",
    "    \n",
    "    ## Get set of dates for turnstile file from first entry    ## This is unordered\n",
    "    dates = {datetime.date() for datetime, entry in list(my_dictionary.values())[0]}\n",
    "    \n",
    "    ## loop through each turnstile key and data\n",
    "    for turnstile_key, turnstile_data in my_dictionary.items():\n",
    "        result_list = list()\n",
    "        \n",
    "        ## loop through each date\n",
    "        for date in dates:\n",
    "            tomorrows_date = date + timedelta(days = 1)\n",
    "            todays_entries = [entry for day, entry in turnstile_data if day.date() == date]\n",
    "            \n",
    "            ## Check if there's a tomorrow. If tomorrow doesn't exist, just throw back a 0\n",
    "            try:\n",
    "                if tomorrows_date in dates:\n",
    "                    tomorrows_entries = [entry for day, entry in turnstile_data if day.date() == tomorrows_date]\n",
    "                    result_list.append([date, min(tomorrows_entries) - min(todays_entries)])\n",
    "                else:\n",
    "                    result_list.append([date, max(todays_entries)-min(todays_entries)])\n",
    "            except:\n",
    "                result_list.append([date, 0])\n",
    "                \n",
    "        ## Add this result to the result dictionary\n",
    "        result[turnstile_key] = result_list    \n",
    "    return result"
   ]
  },
  {
   "cell_type": "code",
   "execution_count": 159,
   "metadata": {},
   "outputs": [],
   "source": [
    "daily = daily_total(date_dict)\n",
    "#daily"
   ]
  },
  {
   "cell_type": "markdown",
   "metadata": {},
   "source": [
    "## Challenge 4\n",
    "\n",
    "We will plot the daily time series for a turnstile.\n",
    "\n",
    "In ipython notebook, add this to the beginning of your next cell:\n",
    "\n",
    "```Python\n",
    "%matplotlib inline\n",
    "```\n",
    "\n",
    "This will make your matplotlib graphs integrate nicely with the notebook. To plot the time series, import matplotlib with\n",
    "\n",
    "```Python\n",
    "import matplotlib.pyplot as plt\n",
    "```\n",
    "\n",
    "Take the list of [(date1, count1), (date2, count2), ...], for the turnstile and turn it into two lists: dates and counts. This should plot it:\n",
    "```Python\n",
    "plt.figure(figsize=(10,3))\n",
    "plt.plot(dates,counts)\n",
    "```"
   ]
  },
  {
   "cell_type": "code",
   "execution_count": 160,
   "metadata": {},
   "outputs": [],
   "source": [
    "def plot_turnstile(dictionary, key):\n",
    "    turnstile_data = sorted(dictionary[key])\n",
    "    \n",
    "    dates = [x[0] for x in turnstile_data]\n",
    "    counts = [x[1] for x in turnstile_data]\n",
    "\n",
    "    plt.figure(figsize=(16,8))\n",
    "    \n",
    "    plt.plot(dates, counts)"
   ]
  },
  {
   "cell_type": "code",
   "execution_count": 161,
   "metadata": {},
   "outputs": [
    {
     "data": {
      "text/plain": [
       "Text(0, 0.5, 'Number of passengers')"
      ]
     },
     "execution_count": 161,
     "metadata": {},
     "output_type": "execute_result"
    },
    {
     "data": {
      "image/png": "[encoded data removed]",
      "text/plain": [
       "<Figure size 1152x576 with 1 Axes>"
      ]
     },
     "metadata": {
      "needs_background": "light"
     },
     "output_type": "display_data"
    }
   ],
   "source": [
    "# 'R242A', 'R049', '02-03-02', '51 ST' turnstile\n",
    "plot_turnstile(daily, ('R242A', 'R049', '02-03-02', '51 ST'))\n",
    "plt.title('Daily Entrance Total for Turnstile 01-06-00 at 23rd St. N/R Station')\n",
    "plt.xlabel('Date')\n",
    "plt.ylabel('Number of passengers')"
   ]
  },
  {
   "cell_type": "markdown",
   "metadata": {},
   "source": [
    "## Challenge 5\n",
    "\n",
    "* So far we've been operating on a single turnstile level, let's combine turnstiles in the same ControlArea/Unit/Station combo. There are some ControlArea/Unit/Station groups that have a single turnstile, but most have multiple turnstilea-- same value for the C/A, UNIT and STATION columns, different values for the SCP column.\n",
    "\n",
    "We want to combine the numbers together -- for each ControlArea/UNIT/STATION combo, for each day, add the counts from each turnstile belonging to that combo."
   ]
  },
  {
   "cell_type": "markdown",
   "metadata": {},
   "source": [
    "## Challenge 6\n",
    "\n",
    "Similarly, combine everything in each station, and come up with a time series of [(date1, count1),(date2,count2),...] type of time series for each STATION, by adding up all the turnstiles in a station."
   ]
  },
  {
   "cell_type": "code",
   "execution_count": 162,
   "metadata": {},
   "outputs": [],
   "source": [
    "def station_total(dictionary):\n",
    "    station_dict = collections.defaultdict(list)\n",
    "\n",
    "    ## Combine all stations in a dictionary\n",
    "    for index, turnstile_data in dictionary.items():\n",
    "#         print index, turnstile_data\n",
    "        \n",
    "        ## Sum up the total of entries across turnstiles by adding it to a temporary dictionary.\n",
    "        turnstile_total = dict()\n",
    "        for date, entry in turnstile_data:\n",
    "            if date not in turnstile_total:\n",
    "                turnstile_total[date] = entry\n",
    "            else:\n",
    "                turnstile_total[date] += entry\n",
    "\n",
    "        station_dict[ (index[0], index[1], index[3]) ] = [[date, entry] for date, entry in turnstile_total.items()]\n",
    "\n",
    "    return dict(station_dict)"
   ]
  },
  {
   "cell_type": "code",
   "execution_count": 163,
   "metadata": {},
   "outputs": [],
   "source": [
    "station_total = station_total(daily)"
   ]
  },
  {
   "cell_type": "markdown",
   "metadata": {},
   "source": [
    "## Challenge 7\n",
    "\n",
    "Plot the time series for a station."
   ]
  },
  {
   "cell_type": "code",
   "execution_count": 164,
   "metadata": {},
   "outputs": [
    {
     "data": {
      "text/plain": [
       "Text(0, 0.5, 'Number of passengers')"
      ]
     },
     "execution_count": 164,
     "metadata": {},
     "output_type": "execute_result"
    },
    {
     "data": {
      "image/png": "[encoded data removed]",
      "text/plain": [
       "<Figure size 1152x576 with 1 Axes>"
      ]
     },
     "metadata": {
      "needs_background": "light"
     },
     "output_type": "display_data"
    }
   ],
   "source": [
    "plot_turnstile(station_total, ('R242A', 'R049', '51 ST'))\n",
    "plt.title('Daily Entrance Total at Lexington Ave Station')\n",
    "plt.xlabel('Date')\n",
    "plt.ylabel('Number of passengers')"
   ]
  },
  {
   "cell_type": "markdown",
   "metadata": {},
   "source": [
    "## Challenge 8\n",
    "\n",
    "* Make one list of counts for one week for one station. Monday's count, Tuesday's count, etc. so it's a list of 7 counts. Make the same list for another week, and another week, and another week. plt.plot(week_count_list) for every week_count_list you created this way. You should get a rainbow plot of weekly commute numbers on top of each other."
   ]
  },
  {
   "cell_type": "code",
   "execution_count": 165,
   "metadata": {},
   "outputs": [
    {
     "data": {
      "text/plain": [
       "[<matplotlib.lines.Line2D at 0x1a29b7ffd0>]"
      ]
     },
     "execution_count": 165,
     "metadata": {},
     "output_type": "execute_result"
    },
    {
     "data": {
      "image/png": "[encoded data removed]",
      "text/plain": [
       "<Figure size 432x288 with 1 Axes>"
      ]
     },
     "metadata": {
      "needs_background": "light"
     },
     "output_type": "display_data"
    }
   ],
   "source": [
    "station = ('R242A', 'R049', '51 ST')\n",
    "week1 = [entry for date, entry in sorted(station_total[station])]\n",
    "\n",
    "plt.plot(week1)"
   ]
  },
  {
   "cell_type": "markdown",
   "metadata": {},
   "source": [
    "## Challenge 9\n",
    "\n",
    "* Over multiple weeks, sum total ridership for each station and sort them, so you can find out the stations with the highest traffic during the time you investigate"
   ]
  },
  {
   "cell_type": "code",
   "execution_count": 155,
   "metadata": {},
   "outputs": [],
   "source": [
    "files = [\"turnstile_190302.txt\", \"turnstile_190309.txt\", \"turnstile_190316.txt\", \"turnstile_190323.txt\"]"
   ]
  },
  {
   "cell_type": "code",
   "execution_count": 174,
   "metadata": {},
   "outputs": [],
   "source": [
    "def plot_weekly(station, file_list):\n",
    "\n",
    "    plt.figure(figsize=(16,8))\n",
    "    \n",
    "    for file in file_list:\n",
    "        raw = read(file)\n",
    "        diction = dictionary(raw)\n",
    "        datetime_dict = dict_date(diction)\n",
    "        daily_total = daily_total(datetime_dict)\n",
    "        station_total = station_total(daily_total)\n",
    "        \n",
    "        week = [entry for date, entry in sorted(station_total[station])]\n",
    "        plt.plot(week)\n",
    "    plt.show()"
   ]
  },
  {
   "cell_type": "code",
   "execution_count": 175,
   "metadata": {},
   "outputs": [
    {
     "ename": "TypeError",
     "evalue": "'collections.defaultdict' object is not callable",
     "output_type": "error",
     "traceback": [
      "\u001b[0;31m---------------------------------------------------------------------------\u001b[0m",
      "\u001b[0;31mTypeError\u001b[0m                                 Traceback (most recent call last)",
      "\u001b[0;32m<ipython-input-175-0d1cb07270d8>\u001b[0m in \u001b[0;36m<module>\u001b[0;34m\u001b[0m\n\u001b[0;32m----> 1\u001b[0;31m \u001b[0mplot_weekly\u001b[0m\u001b[0;34m(\u001b[0m\u001b[0mstation\u001b[0m\u001b[0;34m,\u001b[0m \u001b[0mfiles\u001b[0m\u001b[0;34m)\u001b[0m\u001b[0;34m\u001b[0m\u001b[0;34m\u001b[0m\u001b[0m\n\u001b[0m",
      "\u001b[0;32m<ipython-input-174-fcd32a766171>\u001b[0m in \u001b[0;36mplot_weekly\u001b[0;34m(station, file_list)\u001b[0m\n\u001b[1;32m      5\u001b[0m     \u001b[0;32mfor\u001b[0m \u001b[0mfile\u001b[0m \u001b[0;32min\u001b[0m \u001b[0mfile_list\u001b[0m\u001b[0;34m:\u001b[0m\u001b[0;34m\u001b[0m\u001b[0;34m\u001b[0m\u001b[0m\n\u001b[1;32m      6\u001b[0m         \u001b[0mraw\u001b[0m \u001b[0;34m=\u001b[0m \u001b[0mread\u001b[0m\u001b[0;34m(\u001b[0m\u001b[0mfile\u001b[0m\u001b[0;34m)\u001b[0m\u001b[0;34m\u001b[0m\u001b[0;34m\u001b[0m\u001b[0m\n\u001b[0;32m----> 7\u001b[0;31m         \u001b[0mdiction\u001b[0m \u001b[0;34m=\u001b[0m \u001b[0mdictionary\u001b[0m\u001b[0;34m(\u001b[0m\u001b[0mraw\u001b[0m\u001b[0;34m)\u001b[0m\u001b[0;34m\u001b[0m\u001b[0;34m\u001b[0m\u001b[0m\n\u001b[0m\u001b[1;32m      8\u001b[0m         \u001b[0mdatetime_dict\u001b[0m \u001b[0;34m=\u001b[0m \u001b[0mdict_date\u001b[0m\u001b[0;34m(\u001b[0m\u001b[0mdiction\u001b[0m\u001b[0;34m)\u001b[0m\u001b[0;34m\u001b[0m\u001b[0;34m\u001b[0m\u001b[0m\n\u001b[1;32m      9\u001b[0m         \u001b[0mdaily_total\u001b[0m \u001b[0;34m=\u001b[0m \u001b[0mdaily_total\u001b[0m\u001b[0;34m(\u001b[0m\u001b[0mdatetime_dict\u001b[0m\u001b[0;34m)\u001b[0m\u001b[0;34m\u001b[0m\u001b[0;34m\u001b[0m\u001b[0m\n",
      "\u001b[0;31mTypeError\u001b[0m: 'collections.defaultdict' object is not callable"
     ]
    },
    {
     "data": {
      "text/plain": [
       "<Figure size 1152x576 with 0 Axes>"
      ]
     },
     "metadata": {},
     "output_type": "display_data"
    }
   ],
   "source": [
    "plot_weekly(station, files)"
   ]
  },
  {
   "cell_type": "markdown",
   "metadata": {},
   "source": [
    "## Challenge 10\n",
    "\n",
    "* Make a single list of these total ridership values and plot it with\n",
    "\n",
    "```Python\n",
    "plt.hist(total_ridership_counts)\n",
    "```\n",
    "\n",
    "to get an idea about the distribution of total ridership among different stations.\n",
    "\n",
    "This should show you that most stations have a small traffic, and the histogram bins for large traffic volumes have small bars.\n",
    "\n",
    "*Additional Hint:*\n",
    "\n",
    "If you want to see which stations take the meat of the traffic, you can sort the total ridership counts and make a plt.bar graph. For this, you want to have two lists: the indices of each bar, and the values. The indices can just be 0,1,2,3,..., so you can do\n",
    "\n",
    "```Python\n",
    "indices = range(len(total_ridership_values))\n",
    "plt.bar(indices, total_ridership_values)\n",
    "```"
   ]
  },
  {
   "cell_type": "code",
   "execution_count": null,
   "metadata": {},
   "outputs": [],
   "source": []
  }
 ],
 "metadata": {
  "kernelspec": {
   "display_name": "Python 3",
   "language": "python",
   "name": "python3"
  },
  "language_info": {
   "codemirror_mode": {
    "name": "ipython",
    "version": 3
   },
   "file_extension": ".py",
   "mimetype": "text/x-python",
   "name": "python",
   "nbconvert_exporter": "python",
   "pygments_lexer": "ipython3",
   "version": "3.7.4"
  }
 },
 "nbformat": 4,
 "nbformat_minor": 2
}
